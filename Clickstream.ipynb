{
 "cells": [
  {
   "cell_type": "code",
   "execution_count": 1,
   "id": "33467f42",
   "metadata": {},
   "outputs": [],
   "source": [
    "from pyspark.sql import SparkSession"
   ]
  },
  {
   "cell_type": "code",
   "execution_count": 2,
   "id": "13837f16",
   "metadata": {},
   "outputs": [],
   "source": [
    "# Create a new SparkSession\n",
    "spark = SparkSession \\\n",
    "    .builder \\\n",
    "    .getOrCreate()"
   ]
  },
  {
   "cell_type": "code",
   "execution_count": 3,
   "id": "92b1a38b",
   "metadata": {},
   "outputs": [],
   "source": [
    "# Create an RDD from a list of sample clickstream count\n",
    "sample_clickstream_counts = [\n",
    "    [\"other-search\", \"Hanging_Gardens_of_Babylon\", \"external\", 47000],\n",
    "    [\"other-empty\", \"Hanging_Gardens_of_Babylon\", \"external\", 34600],\n",
    "    [\"Wonders_of_the_World\", \"Hanging_Gardens_of_Babylon\", \"link\", 14000],\n",
    "    [\"Babylon\", \"Hanging_Gardens_of_Babylon\", \"link\", 2500]\n",
    "]\n",
    "\n",
    "clickstream_counts_rdd = spark.sparkContext.parallelize(\n",
    "    sample_clickstream_counts\n",
    ")"
   ]
  },
  {
   "cell_type": "code",
   "execution_count": 4,
   "id": "12dd3ee7",
   "metadata": {},
   "outputs": [
    {
     "name": "stdout",
     "output_type": "stream",
     "text": [
      "+--------------------+--------------------------+-------------+----------+\n",
      "|source_page         |target_page               |link_category|link_count|\n",
      "+--------------------+--------------------------+-------------+----------+\n",
      "|other-search        |Hanging_Gardens_of_Babylon|external     |47000     |\n",
      "|other-empty         |Hanging_Gardens_of_Babylon|external     |34600     |\n",
      "|Wonders_of_the_World|Hanging_Gardens_of_Babylon|link         |14000     |\n",
      "|Babylon             |Hanging_Gardens_of_Babylon|link         |2500      |\n",
      "+--------------------+--------------------------+-------------+----------+\n",
      "\n"
     ]
    }
   ],
   "source": [
    "# Create a DataFrame from the RDD of sample clickstream counts\n",
    "clickstream_sample_df = clickstream_counts_rdd\\\n",
    "    .toDF([\"source_page\", \"target_page\",  \"link_category\", \"link_count\"])\n",
    "\n",
    "# Display the DataFrame to the notebook\n",
    "clickstream_sample_df.show(5, truncate=False)"
   ]
  },
  {
   "cell_type": "code",
   "execution_count": 5,
   "id": "b1e284f2",
   "metadata": {},
   "outputs": [
    {
     "ename": "AnalysisException",
     "evalue": "Path does not exist: file:/c:/Users/j.mo/Documents/Python/cleaned/clickstream",
     "output_type": "error",
     "traceback": [
      "\u001b[1;31m---------------------------------------------------------------------------\u001b[0m",
      "\u001b[1;31mAnalysisException\u001b[0m                         Traceback (most recent call last)",
      "Cell \u001b[1;32mIn [5], line 6\u001b[0m\n\u001b[0;32m      1\u001b[0m \u001b[39m# Read the target directory (`./cleaned/clickstream/`) into a DataFrame (`clickstream`)\u001b[39;00m\n\u001b[0;32m      2\u001b[0m clickstream \u001b[39m=\u001b[39m spark\u001b[39m.\u001b[39;49mread \\\n\u001b[0;32m      3\u001b[0m     \u001b[39m.\u001b[39;49moption(\u001b[39m'\u001b[39;49m\u001b[39mheader\u001b[39;49m\u001b[39m'\u001b[39;49m, \u001b[39mTrue\u001b[39;49;00m) \\\n\u001b[0;32m      4\u001b[0m     \u001b[39m.\u001b[39;49moption(\u001b[39m'\u001b[39;49m\u001b[39mdelimiter\u001b[39;49m\u001b[39m'\u001b[39;49m, \u001b[39m'\u001b[39;49m\u001b[39m\\t\u001b[39;49;00m\u001b[39m'\u001b[39;49m) \\\n\u001b[0;32m      5\u001b[0m     \u001b[39m.\u001b[39;49moption(\u001b[39m'\u001b[39;49m\u001b[39minferSchema\u001b[39;49m\u001b[39m'\u001b[39;49m, \u001b[39mTrue\u001b[39;49;00m) \\\n\u001b[1;32m----> 6\u001b[0m     \u001b[39m.\u001b[39;49mcsv(\u001b[39m\"\u001b[39;49m\u001b[39m./cleaned/clickstream/\u001b[39;49m\u001b[39m\"\u001b[39;49m)\n\u001b[0;32m      8\u001b[0m \u001b[39m# Display the DataFrame to the notebook\u001b[39;00m\n\u001b[0;32m      9\u001b[0m clickstream\u001b[39m.\u001b[39mshow(\u001b[39m5\u001b[39m, truncate\u001b[39m=\u001b[39m\u001b[39mFalse\u001b[39;00m)\n",
      "File \u001b[1;32m~\\AppData\\Local\\Packages\\PythonSoftwareFoundation.Python.3.10_qbz5n2kfra8p0\\LocalCache\\local-packages\\Python310\\site-packages\\pyspark\\sql\\readwriter.py:535\u001b[0m, in \u001b[0;36mDataFrameReader.csv\u001b[1;34m(self, path, schema, sep, encoding, quote, escape, comment, header, inferSchema, ignoreLeadingWhiteSpace, ignoreTrailingWhiteSpace, nullValue, nanValue, positiveInf, negativeInf, dateFormat, timestampFormat, maxColumns, maxCharsPerColumn, maxMalformedLogPerPartition, mode, columnNameOfCorruptRecord, multiLine, charToEscapeQuoteEscaping, samplingRatio, enforceSchema, emptyValue, locale, lineSep, pathGlobFilter, recursiveFileLookup, modifiedBefore, modifiedAfter, unescapedQuoteHandling)\u001b[0m\n\u001b[0;32m    533\u001b[0m \u001b[39mif\u001b[39;00m \u001b[39mtype\u001b[39m(path) \u001b[39m==\u001b[39m \u001b[39mlist\u001b[39m:\n\u001b[0;32m    534\u001b[0m     \u001b[39massert\u001b[39;00m \u001b[39mself\u001b[39m\u001b[39m.\u001b[39m_spark\u001b[39m.\u001b[39m_sc\u001b[39m.\u001b[39m_jvm \u001b[39mis\u001b[39;00m \u001b[39mnot\u001b[39;00m \u001b[39mNone\u001b[39;00m\n\u001b[1;32m--> 535\u001b[0m     \u001b[39mreturn\u001b[39;00m \u001b[39mself\u001b[39m\u001b[39m.\u001b[39m_df(\u001b[39mself\u001b[39;49m\u001b[39m.\u001b[39;49m_jreader\u001b[39m.\u001b[39;49mcsv(\u001b[39mself\u001b[39;49m\u001b[39m.\u001b[39;49m_spark\u001b[39m.\u001b[39;49m_sc\u001b[39m.\u001b[39;49m_jvm\u001b[39m.\u001b[39;49mPythonUtils\u001b[39m.\u001b[39;49mtoSeq(path)))\n\u001b[0;32m    536\u001b[0m \u001b[39melif\u001b[39;00m \u001b[39misinstance\u001b[39m(path, RDD):\n\u001b[0;32m    538\u001b[0m     \u001b[39mdef\u001b[39;00m \u001b[39mfunc\u001b[39m(iterator):\n",
      "File \u001b[1;32m~\\AppData\\Local\\Packages\\PythonSoftwareFoundation.Python.3.10_qbz5n2kfra8p0\\LocalCache\\local-packages\\Python310\\site-packages\\py4j\\java_gateway.py:1321\u001b[0m, in \u001b[0;36mJavaMember.__call__\u001b[1;34m(self, *args)\u001b[0m\n\u001b[0;32m   1315\u001b[0m command \u001b[39m=\u001b[39m proto\u001b[39m.\u001b[39mCALL_COMMAND_NAME \u001b[39m+\u001b[39m\\\n\u001b[0;32m   1316\u001b[0m     \u001b[39mself\u001b[39m\u001b[39m.\u001b[39mcommand_header \u001b[39m+\u001b[39m\\\n\u001b[0;32m   1317\u001b[0m     args_command \u001b[39m+\u001b[39m\\\n\u001b[0;32m   1318\u001b[0m     proto\u001b[39m.\u001b[39mEND_COMMAND_PART\n\u001b[0;32m   1320\u001b[0m answer \u001b[39m=\u001b[39m \u001b[39mself\u001b[39m\u001b[39m.\u001b[39mgateway_client\u001b[39m.\u001b[39msend_command(command)\n\u001b[1;32m-> 1321\u001b[0m return_value \u001b[39m=\u001b[39m get_return_value(\n\u001b[0;32m   1322\u001b[0m     answer, \u001b[39mself\u001b[39;49m\u001b[39m.\u001b[39;49mgateway_client, \u001b[39mself\u001b[39;49m\u001b[39m.\u001b[39;49mtarget_id, \u001b[39mself\u001b[39;49m\u001b[39m.\u001b[39;49mname)\n\u001b[0;32m   1324\u001b[0m \u001b[39mfor\u001b[39;00m temp_arg \u001b[39min\u001b[39;00m temp_args:\n\u001b[0;32m   1325\u001b[0m     temp_arg\u001b[39m.\u001b[39m_detach()\n",
      "File \u001b[1;32m~\\AppData\\Local\\Packages\\PythonSoftwareFoundation.Python.3.10_qbz5n2kfra8p0\\LocalCache\\local-packages\\Python310\\site-packages\\pyspark\\sql\\utils.py:196\u001b[0m, in \u001b[0;36mcapture_sql_exception.<locals>.deco\u001b[1;34m(*a, **kw)\u001b[0m\n\u001b[0;32m    192\u001b[0m converted \u001b[39m=\u001b[39m convert_exception(e\u001b[39m.\u001b[39mjava_exception)\n\u001b[0;32m    193\u001b[0m \u001b[39mif\u001b[39;00m \u001b[39mnot\u001b[39;00m \u001b[39misinstance\u001b[39m(converted, UnknownException):\n\u001b[0;32m    194\u001b[0m     \u001b[39m# Hide where the exception came from that shows a non-Pythonic\u001b[39;00m\n\u001b[0;32m    195\u001b[0m     \u001b[39m# JVM exception message.\u001b[39;00m\n\u001b[1;32m--> 196\u001b[0m     \u001b[39mraise\u001b[39;00m converted \u001b[39mfrom\u001b[39;00m \u001b[39mNone\u001b[39m\n\u001b[0;32m    197\u001b[0m \u001b[39melse\u001b[39;00m:\n\u001b[0;32m    198\u001b[0m     \u001b[39mraise\u001b[39;00m\n",
      "\u001b[1;31mAnalysisException\u001b[0m: Path does not exist: file:/c:/Users/j.mo/Documents/Python/cleaned/clickstream"
     ]
    }
   ],
   "source": [
    "# Read the target directory (`./cleaned/clickstream/`) into a DataFrame (`clickstream`)\n",
    "clickstream = spark.read \\\n",
    "    .option('header', True) \\\n",
    "    .option('delimiter', '\\t') \\\n",
    "    .option('inferSchema', True) \\\n",
    "    .csv(\"./cleaned/clickstream/\")\n",
    "\n",
    "# Display the DataFrame to the notebook\n",
    "clickstream.show(5, truncate=False)"
   ]
  },
  {
   "cell_type": "code",
   "execution_count": null,
   "id": "934cc169",
   "metadata": {},
   "outputs": [
    {
     "name": "stdout",
     "output_type": "stream",
     "text": [
      "root\n",
      " |-- referrer: string (nullable = true)\n",
      " |-- resource: string (nullable = true)\n",
      " |-- link_category: string (nullable = true)\n",
      " |-- language_code: string (nullable = true)\n",
      " |-- click_count: integer (nullable = true)\n",
      "\n"
     ]
    }
   ],
   "source": [
    "# Display the schema of the `clickstream` DataFrame to the notebook\n",
    "clickstream.printSchema()"
   ]
  },
  {
   "cell_type": "code",
   "execution_count": null,
   "id": "17fa2a20",
   "metadata": {},
   "outputs": [
    {
     "name": "stdout",
     "output_type": "stream",
     "text": [
      "+-------------------+--------------+-------------+-----------+\n",
      "|referrer           |resource      |link_category|click_count|\n",
      "+-------------------+--------------+-------------+-----------+\n",
      "|Daniel_Day-Lewis   |Phantom_Thread|link         |43190      |\n",
      "|other-internal     |Phantom_Thread|external     |21683      |\n",
      "|other-empty        |Phantom_Thread|external     |169532     |\n",
      "|90th_Academy_Awards|Phantom_Thread|link         |40449      |\n",
      "|other-search       |Phantom_Thread|external     |536940     |\n",
      "+-------------------+--------------+-------------+-----------+\n",
      "only showing top 5 rows\n",
      "\n",
      "root\n",
      " |-- referrer: string (nullable = true)\n",
      " |-- resource: string (nullable = true)\n",
      " |-- link_category: string (nullable = true)\n",
      " |-- click_count: integer (nullable = true)\n",
      "\n"
     ]
    }
   ],
   "source": [
    "# Drop target columns\n",
    "clickstream = clickstream.drop(\"language_code\")\n",
    "\n",
    "# Display the first few rows of the DataFrame and the new schema in the notebook\n",
    "clickstream.show(5, truncate=False)\n",
    "clickstream.printSchema()"
   ]
  },
  {
   "cell_type": "code",
   "execution_count": null,
   "id": "0b75baed",
   "metadata": {},
   "outputs": [
    {
     "name": "stdout",
     "output_type": "stream",
     "text": [
      "+-------------------+--------------+-------------+-------------+-----------+\n",
      "|source_page        |target_page   |link_category|language_code|click_count|\n",
      "+-------------------+--------------+-------------+-------------+-----------+\n",
      "|Daniel_Day-Lewis   |Phantom_Thread|link         |en           |43190      |\n",
      "|other-internal     |Phantom_Thread|external     |en           |21683      |\n",
      "|other-empty        |Phantom_Thread|external     |en           |169532     |\n",
      "|90th_Academy_Awards|Phantom_Thread|link         |en           |40449      |\n",
      "|other-search       |Phantom_Thread|external     |en           |536940     |\n",
      "+-------------------+--------------+-------------+-------------+-----------+\n",
      "only showing top 5 rows\n",
      "\n",
      "root\n",
      " |-- source_page: string (nullable = true)\n",
      " |-- target_page: string (nullable = true)\n",
      " |-- link_category: string (nullable = true)\n",
      " |-- language_code: string (nullable = true)\n",
      " |-- click_count: integer (nullable = true)\n",
      "\n"
     ]
    }
   ],
   "source": [
    "# Rename `referrer` and `resource` to `source_page` and `target_page`\n",
    "clickstream = clickstream\\\n",
    "    .withColumnRenamed(\"referrer\", \"source_page\")\\\n",
    "    .withColumnRenamed(\"resource\", \"target_page\")\n",
    "  \n",
    "# Display the first few rows of the DataFrame and the new schema in the notebook\n",
    "clickstream.show(5, truncate=False)\n",
    "clickstream.printSchema()"
   ]
  },
  {
   "cell_type": "code",
   "execution_count": null,
   "id": "f017bdd8",
   "metadata": {},
   "outputs": [],
   "source": [
    "# Create a temporary view in the metadata for this `SparkSession` to make the data\n",
    "# queryable with `sparkSession.sql()`\n",
    "clickstream.createOrReplaceTempView(\"clickstream\")"
   ]
  },
  {
   "cell_type": "code",
   "execution_count": null,
   "id": "6c20a4de",
   "metadata": {},
   "outputs": [
    {
     "name": "stdout",
     "output_type": "stream",
     "text": [
      "+----------------------------------+--------------------------+-------------+-----------+\n",
      "|source_page                       |target_page               |link_category|click_count|\n",
      "+----------------------------------+--------------------------+-------------+-----------+\n",
      "|other-search                      |Hanging_Gardens_of_Babylon|external     |47088      |\n",
      "|other-empty                       |Hanging_Gardens_of_Babylon|external     |34619      |\n",
      "|Wonders_of_the_World              |Hanging_Gardens_of_Babylon|link         |14668      |\n",
      "|Seven_Wonders_of_the_Ancient_World|Hanging_Gardens_of_Babylon|link         |12296      |\n",
      "+----------------------------------+--------------------------+-------------+-----------+\n",
      "\n"
     ]
    }
   ],
   "source": [
    "# Filter and sort the DataFrame using PySpark DataFrame methods\n",
    "clickstream\\\n",
    "    .filter(clickstream.target_page == 'Hanging_Gardens_of_Babylon')\\\n",
    "    .orderBy('click_count', ascending=False)\\\n",
    "    .show(10, truncate=False)"
   ]
  },
  {
   "cell_type": "code",
   "execution_count": null,
   "id": "a49bbec6",
   "metadata": {
    "scrolled": true
   },
   "outputs": [
    {
     "name": "stdout",
     "output_type": "stream",
     "text": [
      "+----------------------------------+--------------------------+-------------+-------------+-----------+\n",
      "|source_page                       |target_page               |link_category|language_code|click_count|\n",
      "+----------------------------------+--------------------------+-------------+-------------+-----------+\n",
      "|other-search                      |Hanging_Gardens_of_Babylon|external     |en           |47088      |\n",
      "|other-empty                       |Hanging_Gardens_of_Babylon|external     |en           |34619      |\n",
      "|Wonders_of_the_World              |Hanging_Gardens_of_Babylon|link         |en           |14668      |\n",
      "|Seven_Wonders_of_the_Ancient_World|Hanging_Gardens_of_Babylon|link         |en           |12296      |\n",
      "+----------------------------------+--------------------------+-------------+-------------+-----------+\n",
      "\n"
     ]
    }
   ],
   "source": [
    "# Filter and sort the DataFrame using SQL\n",
    "spark.sql(\n",
    "    \"\"\"\n",
    "    SELECT *\n",
    "    FROM clickstream\n",
    "    WHERE target_page = 'Hanging_Gardens_of_Babylon'\n",
    "    ORDER BY click_count DESC\n",
    "    \"\"\"\n",
    ").show(10, truncate=False)"
   ]
  },
  {
   "cell_type": "code",
   "execution_count": null,
   "id": "38bac86c",
   "metadata": {},
   "outputs": [
    {
     "name": "stdout",
     "output_type": "stream",
     "text": [
      "+-------------+----------------+\n",
      "|link_category|sum(click_count)|\n",
      "+-------------+----------------+\n",
      "|link         |97805811        |\n",
      "|other        |9338172         |\n",
      "|external     |3248677856      |\n",
      "+-------------+----------------+\n",
      "\n"
     ]
    }
   ],
   "source": [
    "# Aggregate the DataFrame using PySpark DataFrame Methods \n",
    "clickstream\\\n",
    "    .groupBy('link_category')\\\n",
    "    .sum()\\\n",
    "    .show(truncate=False)"
   ]
  },
  {
   "cell_type": "code",
   "execution_count": null,
   "id": "817ff99e",
   "metadata": {},
   "outputs": [
    {
     "name": "stdout",
     "output_type": "stream",
     "text": [
      "+-------------+----------------+\n",
      "|link_category|sum(click_count)|\n",
      "+-------------+----------------+\n",
      "|link         |97805811        |\n",
      "|other        |9338172         |\n",
      "|external     |3248677856      |\n",
      "+-------------+----------------+\n",
      "\n"
     ]
    }
   ],
   "source": [
    "# Aggregate the DataFrame using SQL\n",
    "spark.sql(\n",
    "    \"\"\"\n",
    "    SELECT link_category, SUM(click_count) FROM clickstream\n",
    "    GROUP BY link_category\n",
    "    \"\"\"\n",
    ").show(truncate=False)"
   ]
  },
  {
   "cell_type": "code",
   "execution_count": null,
   "id": "29e74d43",
   "metadata": {},
   "outputs": [
    {
     "name": "stdout",
     "output_type": "stream",
     "text": [
      "+----------------------------+----------------------------+-----------+\n",
      "|source_page                 |target_page                 |click_count|\n",
      "+----------------------------+----------------------------+-----------+\n",
      "|Daniel_Day-Lewis            |Phantom_Thread              |43190      |\n",
      "|90th_Academy_Awards         |Phantom_Thread              |40449      |\n",
      "|Shinee                      |Kim_Jong-hyun_(singer)      |24433      |\n",
      "|Agnyaathavaasi              |Anu_Emmanuel                |15020      |\n",
      "|Naa_Peru_Surya              |Anu_Emmanuel                |12361      |\n",
      "|Mariah_Carey                |Nick_Cannon                 |16214      |\n",
      "|Kesha                       |Rainbow_(Kesha_album)       |11448      |\n",
      "|David_Attenborough          |John_Attenborough           |11252      |\n",
      "|Boney_M.                    |Bobby_Farrell               |14095      |\n",
      "|The_End_of_the_F***ing_World|Jessica_Barden              |237279     |\n",
      "|Quentin_Tarantino           |The_Hateful_Eight           |12018      |\n",
      "|Ready_Player_One_(film)     |Olivia_Cooke                |17468      |\n",
      "|Royal_Rumble_(2018)         |Kevin_Owens_and_Sami_Zayn   |11503      |\n",
      "|Macaulay_Culkin             |Brenda_Song                 |20477      |\n",
      "|Altered_Carbon              |Altered_Carbon_(TV_series)  |23962      |\n",
      "|Lil_Pump                    |Smokepurpp                  |36736      |\n",
      "|Fifth_Harmony               |Camila_Cabello              |30959      |\n",
      "|Havana_(Camila_Cabello_song)|Camila_Cabello              |12803      |\n",
      "|Jennifer_Aniston            |John_Aniston                |26498      |\n",
      "|Kingsman:_The_Golden_Circle |Kingsman:_The_Secret_Service|11969      |\n",
      "+----------------------------+----------------------------+-----------+\n",
      "only showing top 20 rows\n",
      "\n"
     ]
    }
   ],
   "source": [
    "# Create a new DataFrame (named `internal_clickstream`) using `filter` to select rows to \n",
    "# a specific condition and `select` to choose which columns to return from the query.\n",
    "internal_clickstream = clickstream\\\n",
    "    .select([\"source_page\", \"target_page\", \"click_count\"])\\\n",
    "    .filter(clickstream.link_category == 'link')\n",
    "\n",
    "# Display the first few rows of the DataFrame in the notebook\n",
    "internal_clickstream.show(truncate=False)"
   ]
  },
  {
   "cell_type": "code",
   "execution_count": null,
   "id": "93c015ca",
   "metadata": {},
   "outputs": [],
   "source": [
    "# Save the `internal_clickstream` DataFrame to a series of CSV files in `./results/article_links_csv/`\n",
    "# with `DataFrame.write.csv()`\n",
    "internal_clickstream\\\n",
    "    .write\\\n",
    "    .csv('./results/article_links_csv/', mode=\"overwrite\")"
   ]
  },
  {
   "cell_type": "code",
   "execution_count": null,
   "id": "3d542098",
   "metadata": {},
   "outputs": [],
   "source": [
    "# Save the `internal_clickstream` DataFrame to a series of parquet files in `./results/article_links_parquet/`\n",
    "# with `DataFrame.write.parquet()`\n",
    "\n",
    "internal_clickstream\\\n",
    "    .write\\\n",
    "    .parquet('./results/article_links_parquet/', mode=\"overwrite\")"
   ]
  },
  {
   "cell_type": "code",
   "execution_count": null,
   "id": "55b2c378",
   "metadata": {},
   "outputs": [],
   "source": [
    "# Stop the notebook's `SparkSession` and `SparkContext`\n",
    "spark.stop()"
   ]
  },
  {
   "cell_type": "code",
   "execution_count": null,
   "id": "0b663c73",
   "metadata": {},
   "outputs": [],
   "source": [
    "# The SparkSession and sparkContext are stopped; the following line will throw \n",
    "# an error:\n",
    "clickstream.show()"
   ]
  }
 ],
 "metadata": {
  "kernelspec": {
   "display_name": "Python 3.10.8 64-bit (microsoft store)",
   "language": "python",
   "name": "python3"
  },
  "language_info": {
   "codemirror_mode": {
    "name": "ipython",
    "version": 3
   },
   "file_extension": ".py",
   "mimetype": "text/x-python",
   "name": "python",
   "nbconvert_exporter": "python",
   "pygments_lexer": "ipython3",
   "version": "3.10.8"
  },
  "vscode": {
   "interpreter": {
    "hash": "15205402e459acc3ad6903af401b09d44dc852339617ee9d2fcaa391e9496f56"
   }
  }
 },
 "nbformat": 4,
 "nbformat_minor": 5
}
