{
 "cells": [
  {
   "cell_type": "code",
   "execution_count": 26,
   "id": "33467f42",
   "metadata": {},
   "outputs": [],
   "source": [
    "from pyspark.sql import SparkSession"
   ]
  },
  {
   "cell_type": "code",
   "execution_count": 27,
   "id": "13837f16",
   "metadata": {},
   "outputs": [],
   "source": [
    "# Create a new SparkSession\n",
    "spark = SparkSession \\\n",
    "    .builder \\\n",
    "    .getOrCreate()"
   ]
  },
  {
   "cell_type": "code",
   "execution_count": 28,
   "id": "92b1a38b",
   "metadata": {},
   "outputs": [],
   "source": [
    "# Create an RDD from a list of sample clickstream count\n",
    "sample_clickstream_counts = [\n",
    "    [\"other-search\", \"Hanging_Gardens_of_Babylon\", \"external\", 47000],\n",
    "    [\"other-empty\", \"Hanging_Gardens_of_Babylon\", \"external\", 34600],\n",
    "    [\"Wonders_of_the_World\", \"Hanging_Gardens_of_Babylon\", \"link\", 14000],\n",
    "    [\"Babylon\", \"Hanging_Gardens_of_Babylon\", \"link\", 2500]\n",
    "]\n",
    "\n",
    "clickstream_counts_rdd = spark.sparkContext.parallelize(\n",
    "    sample_clickstream_counts\n",
    ")"
   ]
  },
  {
   "cell_type": "code",
   "execution_count": 29,
   "id": "12dd3ee7",
   "metadata": {},
   "outputs": [
    {
     "name": "stdout",
     "output_type": "stream",
     "text": [
      "+--------------------+--------------------------+-------------+----------+\n",
      "|source_page         |target_page               |link_category|link_count|\n",
      "+--------------------+--------------------------+-------------+----------+\n",
      "|other-search        |Hanging_Gardens_of_Babylon|external     |47000     |\n",
      "|other-empty         |Hanging_Gardens_of_Babylon|external     |34600     |\n",
      "|Wonders_of_the_World|Hanging_Gardens_of_Babylon|link         |14000     |\n",
      "|Babylon             |Hanging_Gardens_of_Babylon|link         |2500      |\n",
      "+--------------------+--------------------------+-------------+----------+\n",
      "\n"
     ]
    }
   ],
   "source": [
    "# Create a DataFrame from the RDD of sample clickstream counts\n",
    "clickstream_sample_df = clickstream_counts_rdd\\\n",
    "    .toDF([\"source_page\", \"target_page\",  \"link_category\", \"link_count\"])\n",
    "\n",
    "# Display the DataFrame to the notebook\n",
    "clickstream_sample_df.show(5, truncate=False)"
   ]
  },
  {
   "cell_type": "code",
   "execution_count": 30,
   "id": "b1e284f2",
   "metadata": {},
   "outputs": [
    {
     "name": "stdout",
     "output_type": "stream",
     "text": [
      "+-------------------+--------------+-------------+-------------+-----------+\n",
      "|referrer           |resource      |link_category|language_code|click_count|\n",
      "+-------------------+--------------+-------------+-------------+-----------+\n",
      "|Daniel_Day-Lewis   |Phantom_Thread|link         |en           |43190      |\n",
      "|other-internal     |Phantom_Thread|external     |en           |21683      |\n",
      "|other-empty        |Phantom_Thread|external     |en           |169532     |\n",
      "|90th_Academy_Awards|Phantom_Thread|link         |en           |40449      |\n",
      "|other-search       |Phantom_Thread|external     |en           |536940     |\n",
      "+-------------------+--------------+-------------+-------------+-----------+\n",
      "only showing top 5 rows\n",
      "\n"
     ]
    }
   ],
   "source": [
    "# Read the target directory (`./cleaned/clickstream/`) into a DataFrame (`clickstream`)\n",
    "clickstream = spark.read \\\n",
    "    .option('header', True) \\\n",
    "    .option('delimiter', '\\t') \\\n",
    "    .option('inferSchema', True) \\\n",
    "    .csv(\"./cleaned/clickstream/\")\n",
    "\n",
    "# Display the DataFrame to the notebook\n",
    "clickstream.show(5, truncate=False)"
   ]
  },
  {
   "cell_type": "code",
   "execution_count": 31,
   "id": "934cc169",
   "metadata": {},
   "outputs": [
    {
     "name": "stdout",
     "output_type": "stream",
     "text": [
      "root\n",
      " |-- referrer: string (nullable = true)\n",
      " |-- resource: string (nullable = true)\n",
      " |-- link_category: string (nullable = true)\n",
      " |-- language_code: string (nullable = true)\n",
      " |-- click_count: integer (nullable = true)\n",
      "\n"
     ]
    }
   ],
   "source": [
    "# Display the schema of the `clickstream` DataFrame to the notebook\n",
    "clickstream.printSchema()"
   ]
  },
  {
   "cell_type": "code",
   "execution_count": 32,
   "id": "17fa2a20",
   "metadata": {},
   "outputs": [
    {
     "name": "stdout",
     "output_type": "stream",
     "text": [
      "+-------------------+--------------+-------------+-----------+\n",
      "|referrer           |resource      |link_category|click_count|\n",
      "+-------------------+--------------+-------------+-----------+\n",
      "|Daniel_Day-Lewis   |Phantom_Thread|link         |43190      |\n",
      "|other-internal     |Phantom_Thread|external     |21683      |\n",
      "|other-empty        |Phantom_Thread|external     |169532     |\n",
      "|90th_Academy_Awards|Phantom_Thread|link         |40449      |\n",
      "|other-search       |Phantom_Thread|external     |536940     |\n",
      "+-------------------+--------------+-------------+-----------+\n",
      "only showing top 5 rows\n",
      "\n",
      "root\n",
      " |-- referrer: string (nullable = true)\n",
      " |-- resource: string (nullable = true)\n",
      " |-- link_category: string (nullable = true)\n",
      " |-- click_count: integer (nullable = true)\n",
      "\n"
     ]
    }
   ],
   "source": [
    "# Drop target columns\n",
    "clickstream = clickstream.drop(\"language_code\")\n",
    "\n",
    "# Display the first few rows of the DataFrame and the new schema in the notebook\n",
    "clickstream.show(5, truncate=False)\n",
    "clickstream.printSchema()"
   ]
  },
  {
   "cell_type": "code",
   "execution_count": 33,
   "id": "0b75baed",
   "metadata": {},
   "outputs": [
    {
     "name": "stdout",
     "output_type": "stream",
     "text": [
      "+-------------------+--------------+-------------+-----------+\n",
      "|source_page        |target_page   |link_category|click_count|\n",
      "+-------------------+--------------+-------------+-----------+\n",
      "|Daniel_Day-Lewis   |Phantom_Thread|link         |43190      |\n",
      "|other-internal     |Phantom_Thread|external     |21683      |\n",
      "|other-empty        |Phantom_Thread|external     |169532     |\n",
      "|90th_Academy_Awards|Phantom_Thread|link         |40449      |\n",
      "|other-search       |Phantom_Thread|external     |536940     |\n",
      "+-------------------+--------------+-------------+-----------+\n",
      "only showing top 5 rows\n",
      "\n",
      "root\n",
      " |-- source_page: string (nullable = true)\n",
      " |-- target_page: string (nullable = true)\n",
      " |-- link_category: string (nullable = true)\n",
      " |-- click_count: integer (nullable = true)\n",
      "\n"
     ]
    }
   ],
   "source": [
    "# Rename `referrer` and `resource` to `source_page` and `target_page`\n",
    "clickstream = clickstream\\\n",
    "    .withColumnRenamed(\"referrer\", \"source_page\")\\\n",
    "    .withColumnRenamed(\"resource\", \"target_page\")\n",
    "  \n",
    "# Display the first few rows of the DataFrame and the new schema in the notebook\n",
    "clickstream.show(5, truncate=False)\n",
    "clickstream.printSchema()"
   ]
  },
  {
   "cell_type": "code",
   "execution_count": 34,
   "id": "f017bdd8",
   "metadata": {},
   "outputs": [],
   "source": [
    "# Create a temporary view in the metadata for this `SparkSession` to make the data\n",
    "# queryable with `sparkSession.sql()`\n",
    "clickstream.createOrReplaceTempView(\"clickstream\")"
   ]
  },
  {
   "cell_type": "code",
   "execution_count": 35,
   "id": "6c20a4de",
   "metadata": {},
   "outputs": [
    {
     "name": "stdout",
     "output_type": "stream",
     "text": [
      "+----------------------------------+--------------------------+-------------+-----------+\n",
      "|source_page                       |target_page               |link_category|click_count|\n",
      "+----------------------------------+--------------------------+-------------+-----------+\n",
      "|other-search                      |Hanging_Gardens_of_Babylon|external     |47088      |\n",
      "|other-empty                       |Hanging_Gardens_of_Babylon|external     |34619      |\n",
      "|Wonders_of_the_World              |Hanging_Gardens_of_Babylon|link         |14668      |\n",
      "|Seven_Wonders_of_the_Ancient_World|Hanging_Gardens_of_Babylon|link         |12296      |\n",
      "+----------------------------------+--------------------------+-------------+-----------+\n",
      "\n"
     ]
    }
   ],
   "source": [
    "# Filter and sort the DataFrame using PySpark DataFrame methods\n",
    "clickstream\\\n",
    "    .filter(clickstream.target_page == 'Hanging_Gardens_of_Babylon')\\\n",
    "    .orderBy('click_count', ascending=False)\\\n",
    "    .show(10, truncate=False)"
   ]
  },
  {
   "cell_type": "code",
   "execution_count": 36,
   "id": "a49bbec6",
   "metadata": {
    "scrolled": true
   },
   "outputs": [
    {
     "name": "stdout",
     "output_type": "stream",
     "text": [
      "+----------------------------------+--------------------------+-------------+-----------+\n",
      "|source_page                       |target_page               |link_category|click_count|\n",
      "+----------------------------------+--------------------------+-------------+-----------+\n",
      "|other-search                      |Hanging_Gardens_of_Babylon|external     |47088      |\n",
      "|other-empty                       |Hanging_Gardens_of_Babylon|external     |34619      |\n",
      "|Wonders_of_the_World              |Hanging_Gardens_of_Babylon|link         |14668      |\n",
      "|Seven_Wonders_of_the_Ancient_World|Hanging_Gardens_of_Babylon|link         |12296      |\n",
      "+----------------------------------+--------------------------+-------------+-----------+\n",
      "\n"
     ]
    }
   ],
   "source": [
    "# Filter and sort the DataFrame using SQL\n",
    "spark.sql(\n",
    "    \"\"\"\n",
    "    SELECT *\n",
    "    FROM clickstream\n",
    "    WHERE target_page = 'Hanging_Gardens_of_Babylon'\n",
    "    ORDER BY click_count DESC\n",
    "    \"\"\"\n",
    ").show(10, truncate=False)"
   ]
  },
  {
   "cell_type": "code",
   "execution_count": 37,
   "id": "38bac86c",
   "metadata": {},
   "outputs": [
    {
     "name": "stdout",
     "output_type": "stream",
     "text": [
      "+-------------+----------------+\n",
      "|link_category|sum(click_count)|\n",
      "+-------------+----------------+\n",
      "|link         |97805811        |\n",
      "|other        |9338172         |\n",
      "|external     |3248677856      |\n",
      "+-------------+----------------+\n",
      "\n"
     ]
    }
   ],
   "source": [
    "# Aggregate the DataFrame using PySpark DataFrame Methods \n",
    "clickstream\\\n",
    "    .groupBy('link_category')\\\n",
    "    .sum()\\\n",
    "    .show(truncate=False)"
   ]
  },
  {
   "cell_type": "code",
   "execution_count": 38,
   "id": "817ff99e",
   "metadata": {},
   "outputs": [
    {
     "name": "stdout",
     "output_type": "stream",
     "text": [
      "+-------------+----------------+\n",
      "|link_category|sum(click_count)|\n",
      "+-------------+----------------+\n",
      "|link         |97805811        |\n",
      "|other        |9338172         |\n",
      "|external     |3248677856      |\n",
      "+-------------+----------------+\n",
      "\n"
     ]
    }
   ],
   "source": [
    "# Aggregate the DataFrame using SQL\n",
    "spark.sql(\n",
    "    \"\"\"\n",
    "    SELECT link_category, SUM(click_count) FROM clickstream\n",
    "    GROUP BY link_category\n",
    "    \"\"\"\n",
    ").show(truncate=False)"
   ]
  },
  {
   "cell_type": "code",
   "execution_count": 39,
   "id": "29e74d43",
   "metadata": {},
   "outputs": [
    {
     "name": "stdout",
     "output_type": "stream",
     "text": [
      "+----------------------------+----------------------------+-----------+\n",
      "|source_page                 |target_page                 |click_count|\n",
      "+----------------------------+----------------------------+-----------+\n",
      "|Daniel_Day-Lewis            |Phantom_Thread              |43190      |\n",
      "|90th_Academy_Awards         |Phantom_Thread              |40449      |\n",
      "|Shinee                      |Kim_Jong-hyun_(singer)      |24433      |\n",
      "|Agnyaathavaasi              |Anu_Emmanuel                |15020      |\n",
      "|Naa_Peru_Surya              |Anu_Emmanuel                |12361      |\n",
      "|Mariah_Carey                |Nick_Cannon                 |16214      |\n",
      "|Kesha                       |Rainbow_(Kesha_album)       |11448      |\n",
      "|David_Attenborough          |John_Attenborough           |11252      |\n",
      "|Boney_M.                    |Bobby_Farrell               |14095      |\n",
      "|The_End_of_the_F***ing_World|Jessica_Barden              |237279     |\n",
      "|Quentin_Tarantino           |The_Hateful_Eight           |12018      |\n",
      "|Ready_Player_One_(film)     |Olivia_Cooke                |17468      |\n",
      "|Royal_Rumble_(2018)         |Kevin_Owens_and_Sami_Zayn   |11503      |\n",
      "|Macaulay_Culkin             |Brenda_Song                 |20477      |\n",
      "|Altered_Carbon              |Altered_Carbon_(TV_series)  |23962      |\n",
      "|Lil_Pump                    |Smokepurpp                  |36736      |\n",
      "|Fifth_Harmony               |Camila_Cabello              |30959      |\n",
      "|Havana_(Camila_Cabello_song)|Camila_Cabello              |12803      |\n",
      "|Jennifer_Aniston            |John_Aniston                |26498      |\n",
      "|Kingsman:_The_Golden_Circle |Kingsman:_The_Secret_Service|11969      |\n",
      "+----------------------------+----------------------------+-----------+\n",
      "only showing top 20 rows\n",
      "\n"
     ]
    }
   ],
   "source": [
    "# Create a new DataFrame (named `internal_clickstream`) using `filter` to select rows to \n",
    "# a specific condition and `select` to choose which columns to return from the query.\n",
    "internal_clickstream = clickstream\\\n",
    "    .select([\"source_page\", \"target_page\", \"click_count\"])\\\n",
    "    .filter(clickstream.link_category == 'link')\n",
    "\n",
    "# Display the first few rows of the DataFrame in the notebook\n",
    "internal_clickstream.show(truncate=False)"
   ]
  },
  {
   "cell_type": "code",
   "execution_count": 40,
   "id": "93c015ca",
   "metadata": {},
   "outputs": [],
   "source": [
    "# Save the `internal_clickstream` DataFrame to a series of CSV files in `./results/article_links_csv/`\n",
    "# with `DataFrame.write.csv()`\n",
    "internal_clickstream\\\n",
    "    .write\\\n",
    "    .csv('./results/article_links_csv/', mode=\"overwrite\")"
   ]
  },
  {
   "cell_type": "code",
   "execution_count": 41,
   "id": "3d542098",
   "metadata": {},
   "outputs": [],
   "source": [
    "# Save the `internal_clickstream` DataFrame to a series of parquet files in `./results/article_links_parquet/`\n",
    "# with `DataFrame.write.parquet()`\n",
    "\n",
    "internal_clickstream\\\n",
    "    .write\\\n",
    "    .parquet('./results/article_links_parquet/', mode=\"overwrite\")"
   ]
  },
  {
   "cell_type": "code",
   "execution_count": 23,
   "id": "55b2c378",
   "metadata": {},
   "outputs": [],
   "source": [
    "# Stop the notebook's `SparkSession` and `SparkContext`\n",
    "spark.stop()"
   ]
  },
  {
   "cell_type": "code",
   "execution_count": 42,
   "id": "0b663c73",
   "metadata": {},
   "outputs": [
    {
     "name": "stdout",
     "output_type": "stream",
     "text": [
      "+-------------------+--------------------+-------------+-----------+\n",
      "|        source_page|         target_page|link_category|click_count|\n",
      "+-------------------+--------------------+-------------+-----------+\n",
      "|   Daniel_Day-Lewis|      Phantom_Thread|         link|      43190|\n",
      "|     other-internal|      Phantom_Thread|     external|      21683|\n",
      "|        other-empty|      Phantom_Thread|     external|     169532|\n",
      "|90th_Academy_Awards|      Phantom_Thread|         link|      40449|\n",
      "|       other-search|      Phantom_Thread|     external|     536940|\n",
      "|       other-search|Tara_Grinstead_mu...|     external|      30041|\n",
      "|       other-search|      Yossi_Benayoun|     external|      11045|\n",
      "|        other-empty|       Parthiv_Patel|     external|      11481|\n",
      "|       other-search|       Parthiv_Patel|     external|      34953|\n",
      "|        other-empty|   Cosimo_de'_Medici|     external|      16418|\n",
      "|       other-search|   Cosimo_de'_Medici|     external|      22190|\n",
      "|       other-search|University_of_Geo...|     external|      29963|\n",
      "|        other-empty|University_of_Geo...|     external|      17325|\n",
      "|       other-search|Carbon_monoxide_d...|     external|      13617|\n",
      "|        other-empty|      Marissa_Ribisi|     external|      18979|\n",
      "|             Shinee|Kim_Jong-hyun_(si...|         link|      24433|\n",
      "|       other-search|Kim_Jong-hyun_(si...|     external|     162466|\n",
      "|        other-empty|Kim_Jong-hyun_(si...|     external|      60193|\n",
      "|        other-empty|         Hello_Kitty|     external|      10674|\n",
      "|       other-search|         Hello_Kitty|     external|      23726|\n",
      "+-------------------+--------------------+-------------+-----------+\n",
      "only showing top 20 rows\n",
      "\n"
     ]
    }
   ],
   "source": [
    "# The SparkSession and sparkContext are stopped; the following line will throw \n",
    "# an error:\n",
    "clickstream.show()"
   ]
  },
  {
   "cell_type": "code",
   "execution_count": null,
   "id": "37c2d379",
   "metadata": {},
   "outputs": [],
   "source": []
  }
 ],
 "metadata": {
  "kernelspec": {
   "display_name": "Python 3 (ipykernel)",
   "language": "python",
   "name": "python3"
  },
  "language_info": {
   "codemirror_mode": {
    "name": "ipython",
    "version": 3
   },
   "file_extension": ".py",
   "mimetype": "text/x-python",
   "name": "python",
   "nbconvert_exporter": "python",
   "pygments_lexer": "ipython3",
   "version": "3.8.10"
  }
 },
 "nbformat": 4,
 "nbformat_minor": 5
}
